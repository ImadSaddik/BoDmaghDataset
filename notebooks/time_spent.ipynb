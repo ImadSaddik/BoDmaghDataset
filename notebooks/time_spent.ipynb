{
 "cells": [
  {
   "cell_type": "code",
   "execution_count": null,
   "metadata": {},
   "outputs": [
    {
     "name": "stdout",
     "output_type": "stream",
     "text": [
      "Total time: 05:48\n"
     ]
    }
   ],
   "source": [
    "times = [\n",
    "    {\"date\": \"Mar 23\", \"hours\": 0, \"minutes\": 30},\n",
    "    {\"date\": \"Mar 24\", \"hours\": 1, \"minutes\": 30},\n",
    "    {\"date\": \"Mar 25\", \"hours\": 1, \"minutes\": 1},\n",
    "    {\"date\": \"Mar 26\", \"hours\": 1, \"minutes\": 5},\n",
    "    {\"date\": \"Mar 27\", \"hours\": 0, \"minutes\": 49},\n",
    "    {\"date\": \"Mar 28\", \"hours\": 0, \"minutes\": 53},\n",
    "]\n",
    "\n",
    "total_hours = 0\n",
    "total_minutes = 0\n",
    "\n",
    "for time in times:\n",
    "    total_hours += time[\"hours\"]\n",
    "    total_minutes += time[\"minutes\"]\n",
    "\n",
    "if total_minutes >= 60:\n",
    "    extra_hours = total_minutes // 60\n",
    "    total_hours += extra_hours\n",
    "    total_minutes = total_minutes % 60\n",
    "\n",
    "print(f\"Total time: {total_hours:02d}:{total_minutes:02d}\")"
   ]
  }
 ],
 "metadata": {
  "kernelspec": {
   "display_name": "vincent",
   "language": "python",
   "name": "python3"
  },
  "language_info": {
   "codemirror_mode": {
    "name": "ipython",
    "version": 3
   },
   "file_extension": ".py",
   "mimetype": "text/x-python",
   "name": "python",
   "nbconvert_exporter": "python",
   "pygments_lexer": "ipython3",
   "version": "3.11.10"
  }
 },
 "nbformat": 4,
 "nbformat_minor": 2
}
