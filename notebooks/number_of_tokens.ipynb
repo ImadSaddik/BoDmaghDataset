{
 "cells": [
  {
   "cell_type": "code",
   "execution_count": 1,
   "metadata": {},
   "outputs": [],
   "source": [
    "import sys\n",
    "sys.path.append('../')"
   ]
  },
  {
   "cell_type": "code",
   "execution_count": 2,
   "metadata": {},
   "outputs": [],
   "source": [
    "from minbpe import RegexTokenizer\n",
    "\n",
    "tokenizer = RegexTokenizer()\n",
    "tokenizer.load(\"../tokenizer/darija_tokenizer.model\")"
   ]
  },
  {
   "cell_type": "code",
   "execution_count": 3,
   "metadata": {},
   "outputs": [
    {
     "data": {
      "text/plain": [
       "23374"
      ]
     },
     "execution_count": 3,
     "metadata": {},
     "output_type": "execute_result"
    }
   ],
   "source": [
    "import json\n",
    "\n",
    "with open(\"../dataset.json\") as f:\n",
    "    data = json.load(f)\n",
    "\n",
    "token_count = 0\n",
    "for row in data:\n",
    "    for conversation_turn in row[\"conversation\"]:\n",
    "        content = conversation_turn[\"content\"]\n",
    "        if content:\n",
    "            tokens = tokenizer.encode(content)\n",
    "            token_count += len(tokens)\n",
    "\n",
    "token_count"
   ]
  },
  {
   "cell_type": "code",
   "execution_count": 4,
   "metadata": {},
   "outputs": [
    {
     "data": {
      "text/plain": [
       "136.69005847953215"
      ]
     },
     "execution_count": 4,
     "metadata": {},
     "output_type": "execute_result"
    }
   ],
   "source": [
    "import json\n",
    "\n",
    "with open(\"../dataset.json\") as f:\n",
    "    data = json.load(f)\n",
    "\n",
    "average_token_count = 0\n",
    "for row in data:\n",
    "    for conversation_turn in row[\"conversation\"]:\n",
    "        content = conversation_turn[\"content\"]\n",
    "        if content:\n",
    "            tokens = tokenizer.encode(content)\n",
    "            average_token_count += len(tokens)\n",
    "\n",
    "average_token_count /= len(data)\n",
    "average_token_count"
   ]
  },
  {
   "cell_type": "code",
   "execution_count": null,
   "metadata": {},
   "outputs": [],
   "source": []
  }
 ],
 "metadata": {
  "kernelspec": {
   "display_name": "vincent",
   "language": "python",
   "name": "python3"
  },
  "language_info": {
   "codemirror_mode": {
    "name": "ipython",
    "version": 3
   },
   "file_extension": ".py",
   "mimetype": "text/x-python",
   "name": "python",
   "nbconvert_exporter": "python",
   "pygments_lexer": "ipython3",
   "version": "3.11.10"
  }
 },
 "nbformat": 4,
 "nbformat_minor": 2
}
