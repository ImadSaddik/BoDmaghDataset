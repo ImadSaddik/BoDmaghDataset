{
 "cells": [
  {
   "cell_type": "code",
   "execution_count": 3,
   "metadata": {},
   "outputs": [],
   "source": [
    "import sys\n",
    "sys.path.append('../')"
   ]
  },
  {
   "cell_type": "code",
   "execution_count": 4,
   "metadata": {},
   "outputs": [],
   "source": [
    "from minbpe import RegexTokenizer\n",
    "\n",
    "tokenizer = RegexTokenizer()\n",
    "tokenizer.load(\"../output/base/darija_tokenizer.model\")"
   ]
  },
  {
   "cell_type": "code",
   "execution_count": 5,
   "metadata": {},
   "outputs": [
    {
     "data": {
      "text/plain": [
       "15931"
      ]
     },
     "execution_count": 5,
     "metadata": {},
     "output_type": "execute_result"
    }
   ],
   "source": [
    "import json\n",
    "\n",
    "with open(\"../dataset.json\") as f:\n",
    "    data = json.load(f)\n",
    "\n",
    "token_count = 0\n",
    "for conversation in data:\n",
    "    for conversation_turn in conversation:\n",
    "        content = conversation_turn[\"content\"]\n",
    "        if content:\n",
    "            tokens = tokenizer.encode(content)\n",
    "            token_count += len(tokens)\n",
    "\n",
    "token_count"
   ]
  },
  {
   "cell_type": "code",
   "execution_count": 7,
   "metadata": {},
   "outputs": [
    {
     "data": {
      "text/plain": [
       "117.13970588235294"
      ]
     },
     "execution_count": 7,
     "metadata": {},
     "output_type": "execute_result"
    }
   ],
   "source": [
    "import json\n",
    "\n",
    "with open(\"../dataset.json\") as f:\n",
    "    data = json.load(f)\n",
    "\n",
    "average_token_count = 0\n",
    "for conversation in data:\n",
    "    for conversation_turn in conversation:\n",
    "        content = conversation_turn[\"content\"]\n",
    "        if content:\n",
    "            tokens = tokenizer.encode(content)\n",
    "            average_token_count += len(tokens)\n",
    "\n",
    "average_token_count /= len(data)\n",
    "average_token_count"
   ]
  },
  {
   "cell_type": "code",
   "execution_count": 8,
   "metadata": {},
   "outputs": [],
   "source": [
    "from minbpe import RegexTokenizer\n",
    "\n",
    "tokenizer = RegexTokenizer()\n",
    "tokenizer.load(\"../output/small/darija_tokenizer.model\")"
   ]
  },
  {
   "cell_type": "code",
   "execution_count": 9,
   "metadata": {},
   "outputs": [
    {
     "data": {
      "text/plain": [
       "25349"
      ]
     },
     "execution_count": 9,
     "metadata": {},
     "output_type": "execute_result"
    }
   ],
   "source": [
    "import json\n",
    "\n",
    "with open(\"../dataset.json\") as f:\n",
    "    data = json.load(f)\n",
    "\n",
    "token_count = 0\n",
    "for conversation in data:\n",
    "    for conversation_turn in conversation:\n",
    "        content = conversation_turn[\"content\"]\n",
    "        if content:\n",
    "            tokens = tokenizer.encode(content)\n",
    "            token_count += len(tokens)\n",
    "\n",
    "token_count"
   ]
  },
  {
   "cell_type": "code",
   "execution_count": 10,
   "metadata": {},
   "outputs": [
    {
     "data": {
      "text/plain": [
       "186.38970588235293"
      ]
     },
     "execution_count": 10,
     "metadata": {},
     "output_type": "execute_result"
    }
   ],
   "source": [
    "import json\n",
    "\n",
    "with open(\"../dataset.json\") as f:\n",
    "    data = json.load(f)\n",
    "\n",
    "average_token_count = 0\n",
    "for conversation in data:\n",
    "    for conversation_turn in conversation:\n",
    "        content = conversation_turn[\"content\"]\n",
    "        if content:\n",
    "            tokens = tokenizer.encode(content)\n",
    "            average_token_count += len(tokens)\n",
    "\n",
    "average_token_count /= len(data)\n",
    "average_token_count"
   ]
  }
 ],
 "metadata": {
  "kernelspec": {
   "display_name": "vincent",
   "language": "python",
   "name": "python3"
  },
  "language_info": {
   "codemirror_mode": {
    "name": "ipython",
    "version": 3
   },
   "file_extension": ".py",
   "mimetype": "text/x-python",
   "name": "python",
   "nbconvert_exporter": "python",
   "pygments_lexer": "ipython3",
   "version": "3.11.10"
  }
 },
 "nbformat": 4,
 "nbformat_minor": 2
}
